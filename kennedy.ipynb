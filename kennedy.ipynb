{
 "nbformat": 4,
 "nbformat_minor": 2,
 "metadata": {
  "language_info": {
   "name": "python",
   "codemirror_mode": {
    "name": "ipython",
    "version": 3
   }
  },
  "orig_nbformat": 2,
  "file_extension": ".py",
  "mimetype": "text/x-python",
  "name": "python",
  "npconvert_exporter": "python",
  "pygments_lexer": "ipython3",
  "version": 3
 },
 "cells": [
  {
   "cell_type": "code",
   "execution_count": 26,
   "metadata": {},
   "outputs": [
    {
     "name": "stdout",
     "output_type": "stream",
     "text": "{'We': [1],\n 'a': [1, 2, 4],\n 'an': [3],\n 'as': [4, 4, 5, 6],\n 'beginning': [4],\n 'but': [2],\n 'celebration': [2],\n 'change': [6],\n 'end': [3],\n 'freedom': [3],\n 'not': [1],\n 'observe': [1],\n 'of': [2, 3],\n 'party': [2],\n 'renewal': [5],\n 'signifying': [5],\n 'symbolizing': [3],\n 'today': [1],\n 'victory': [1],\n 'well': [4, 5]}\n"
    }
   ],
   "source": [
    "from pprint import pprint\n",
    "\n",
    "result = {}\n",
    "\n",
    "with open('./Kennedy.txt', 'r') as open_file:\n",
    "    for index, line in enumerate(open_file):\n",
    "        for word in line.split():\n",
    "            if word not in result:\n",
    "                result[word] = []\n",
    "            # line start with 1\n",
    "            result[word].append(index + 1)\n",
    "\n",
    "pprint(result)\n"
   ]
  },
  {
   "cell_type": "code",
   "execution_count": null,
   "metadata": {},
   "outputs": [],
   "source": []
  }
 ]
}