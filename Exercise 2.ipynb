{
 "cells": [
  {
   "cell_type": "markdown",
   "metadata": {},
   "source": [
    "# 1"
   ]
  },
  {
   "cell_type": "code",
   "execution_count": 66,
   "metadata": {},
   "outputs": [
    {
     "name": "stdout",
     "output_type": "stream",
     "text": [
      "Enter number of month: 3\n",
      "First quarter\n"
     ]
    }
   ],
   "source": [
    "number_of_month = input(\"Enter number of month: \")\n",
    "number_of_month = int(number_of_month)\n",
    "result = \"quarter\"\n",
    "if number_of_month in [1, 2, 3]:\n",
    "    result = \"First \" + result\n",
    "elif number_of_month in [4, 5, 6]:\n",
    "    result = \"Second \" + result\n",
    "elif number_of_month in [7, 8, 9]:\n",
    "    result = \"Third \" + result\n",
    "elif number_of_month in [10, 11, 12]:\n",
    "    result = \"Fouth \" + result\n",
    "else:\n",
    "    result = \"Error !!!!\"\n",
    "print(result)"
   ]
  },
  {
   "cell_type": "markdown",
   "metadata": {},
   "source": [
    "# 2"
   ]
  },
  {
   "cell_type": "code",
   "execution_count": 67,
   "metadata": {},
   "outputs": [
    {
     "name": "stdout",
     "output_type": "stream",
     "text": [
      "Enter number of mass: 50\n",
      "Yor weight: 490.0 , Normal.\n"
     ]
    }
   ],
   "source": [
    "mass = input(\"Enter number of mass: \")\n",
    "weight = float(mass) * 9.8\n",
    "result = \"Yor weight: %s\" % round(weight, 2)\n",
    "if weight > 500:\n",
    "    result += \" , Too heavy!!!\"\n",
    "elif weight >= 100 and weight <= 500:\n",
    "    result += \" , Normal.\"\n",
    "elif weight < 100:\n",
    "    result += \" , Too light.\"\n",
    "print(result)"
   ]
  },
  {
   "cell_type": "markdown",
   "metadata": {},
   "source": [
    "# 3"
   ]
  },
  {
   "cell_type": "code",
   "execution_count": 68,
   "metadata": {},
   "outputs": [
    {
     "name": "stdout",
     "output_type": "stream",
     "text": [
      "Enter number of month(1-12): 5\n",
      "Enter number of day(1-31): 6\n",
      "Enter 2 digits years Eg. 1960, input as 60: 30\n",
      "Magic date\n"
     ]
    }
   ],
   "source": [
    "month = input(\"Enter number of month(1-12): \")\n",
    "day = input(\"Enter number of day(1-31): \")\n",
    "year = input(\"Enter 2 digits years Eg. 1960, input as 60: \")\n",
    "is_magic_date = int(year) == int(month) * int(day)\n",
    "if (is_magic_date is True):\n",
    "    print(\"Magic date\")\n",
    "else:\n",
    "    print(\"Not magic date\")"
   ]
  },
  {
   "cell_type": "markdown",
   "metadata": {},
   "source": [
    "# 4"
   ]
  },
  {
   "cell_type": "code",
   "execution_count": 69,
   "metadata": {},
   "outputs": [
    {
     "name": "stdout",
     "output_type": "stream",
     "text": [
      "Enter number of packages purchased: 50\n",
      "You got 30% discount, Price 3465.0\n"
     ]
    }
   ],
   "source": [
    "number_of_purchased = input(\"Enter number of packages purchased: \")\n",
    "number_of_purchased = int(number_of_purchased)\n",
    "retail_price = 99\n",
    "discount = 0\n",
    "total = retail_price * number_of_purchased\n",
    "if number_of_purchased >= 10 and number_of_purchased < 20:\n",
    "    discount = 10\n",
    "elif number_of_purchased >= 20 and number_of_purchased < 50:\n",
    "    discount = 20\n",
    "elif number_of_purchased >= 50 and number_of_purchased < 100:\n",
    "    discount = 30\n",
    "elif number_of_purchased >= 100:\n",
    "    discount = 40\n",
    "\n",
    "total -= total * discount / 100\n",
    "result = \"Price %s\" % total\n",
    "if discount:\n",
    "    result = \"You got {}% discount\".format(discount) + \", \" + result\n",
    "print(result)"
   ]
  },
  {
   "cell_type": "markdown",
   "metadata": {},
   "source": [
    "# 5"
   ]
  },
  {
   "cell_type": "code",
   "execution_count": 71,
   "metadata": {},
   "outputs": [
    {
     "name": "stdout",
     "output_type": "stream",
     "text": [
      "Number of year, Eg. 2000: 2000\n",
      "29\n"
     ]
    }
   ],
   "source": [
    "year = input(\"Number of year, Eg. 2000: \")\n",
    "year = int(year)\n",
    "day = 28\n",
    "if year % 100 == 0 and year % 400 == 0:\n",
    "    day = 29\n",
    "elif year % 100 != 0 and year % 4 == 0:\n",
    "    day = 29\n",
    "print(day)\n"
   ]
  },
  {
   "cell_type": "markdown",
   "metadata": {},
   "source": [
    "# 6"
   ]
  },
  {
   "cell_type": "code",
   "execution_count": 72,
   "metadata": {},
   "outputs": [
    {
     "name": "stdout",
     "output_type": "stream",
     "text": [
      "At 10 minutes, your burn 42.0 calories\n",
      "At 15 minutes, your burn 63.0 calories\n",
      "At 20 minutes, your burn 84.0 calories\n",
      "At 25 minutes, your burn 105.0 calories\n",
      "At 30 minutes, your burn 126.0 calories\n"
     ]
    }
   ],
   "source": [
    "for minute in range(10, 31):\n",
    "    burning_calories = 4.2 * minute\n",
    "    if minute % 5 == 0:\n",
    "        print(\"At %s minutes, your burn %s calories\" % (minute, burning_calories))"
   ]
  },
  {
   "cell_type": "markdown",
   "metadata": {},
   "source": [
    "# 7"
   ]
  },
  {
   "cell_type": "code",
   "execution_count": 73,
   "metadata": {},
   "outputs": [
    {
     "name": "stdout",
     "output_type": "stream",
     "text": [
      "What is the speed of the vehicle in mph? 50\n",
      "How many hours has it traveled? 5\n",
      "Hour \t Distance Traveled\n",
      "1 \t 50\n",
      "2 \t 100\n",
      "3 \t 150\n",
      "4 \t 200\n",
      "5 \t 250\n"
     ]
    }
   ],
   "source": [
    "speed = input(\"What is the speed of the vehicle in mph? \")\n",
    "hours = input(\"How many hours has it traveled? \")\n",
    "speed = int(speed)\n",
    "hours = int(hours)\n",
    "print(\"Hour \\t Distance Traveled\")\n",
    "for hour in range(1, hours + 1):\n",
    "    distance = hour * speed\n",
    "    print(\"%s \\t %s\" % (hour, distance))"
   ]
  },
  {
   "cell_type": "markdown",
   "metadata": {},
   "source": [
    "# 8"
   ]
  },
  {
   "cell_type": "code",
   "execution_count": 21,
   "metadata": {},
   "outputs": [
    {
     "name": "stdout",
     "output_type": "stream",
     "text": [
      "Enter number of years: 2\n",
      "Inches of rainfall of year 1 at 1 month: 3\n",
      "Inches of rainfall of year 1 at 2 month: 5\n",
      "Inches of rainfall of year 1 at 3 month: 4\n",
      "Inches of rainfall of year 1 at 4 month: 2\n",
      "Inches of rainfall of year 1 at 5 month: 4\n",
      "Inches of rainfall of year 1 at 6 month: 5\n",
      "Inches of rainfall of year 1 at 7 month: 6\n",
      "Inches of rainfall of year 1 at 8 month: 7\n",
      "Inches of rainfall of year 1 at 9 month: 8\n",
      "Inches of rainfall of year 1 at 10 month: 6\n",
      "Inches of rainfall of year 1 at 11 month: 4\n",
      "Inches of rainfall of year 1 at 12 month: 2\n",
      "Inches of rainfall of year 2 at 1 month: 4\n",
      "Inches of rainfall of year 2 at 2 month: 5\n",
      "Inches of rainfall of year 2 at 3 month: 6\n",
      "Inches of rainfall of year 2 at 4 month: 7\n",
      "Inches of rainfall of year 2 at 5 month: 8\n",
      "Inches of rainfall of year 2 at 6 month: 6\n",
      "Inches of rainfall of year 2 at 7 month: 5\n",
      "Inches of rainfall of year 2 at 8 month: 4\n",
      "Inches of rainfall of year 2 at 9 month: 3\n",
      "Inches of rainfall of year 2 at 10 month: 4\n",
      "Inches of rainfall of year 2 at 11 month: 5\n",
      "Inches of rainfall of year 2 at 12 month: 6\n",
      "Month \t Total \t Average\n",
      "1 \t 7 \t 3.5\n",
      "2 \t 10 \t 5.0\n",
      "3 \t 10 \t 5.0\n",
      "4 \t 9 \t 4.5\n",
      "5 \t 12 \t 6.0\n",
      "6 \t 11 \t 5.5\n",
      "7 \t 11 \t 5.5\n",
      "8 \t 11 \t 5.5\n",
      "9 \t 11 \t 5.5\n",
      "10 \t 10 \t 5.0\n",
      "11 \t 9 \t 4.5\n",
      "12 \t 8 \t 4.0\n"
     ]
    }
   ],
   "source": [
    "number_of_years = input(\"Enter number of years: \")\n",
    "number_of_years = int(number_of_years)\n",
    "\n",
    "# summary = {}\n",
    "# for num_year in range (1, number_of_years + 1):\n",
    "#     for month in range(1, 13):\n",
    "#         if not month in summary:\n",
    "#             summary[month] = []\n",
    "        \n",
    "#         inches_of_rainfall = input(\"Inches of rainfall of year {} at {} month: \".format(num_year, month))\n",
    "#         inches_of_rainfall = int(inches_of_rainfall)\n",
    "#         summary[month].append(inches_of_rainfall)\n",
    "\n",
    "# print(\"Month \\t Total \\t Average\")\n",
    "# for month, rainfall_info in summary.items():\n",
    "#     total_rainfall = sum(rainfall_info)\n",
    "#     average_rainfall = total_rainfall / number_of_years\n",
    "#     print(\"{} \\t {} \\t {}\".format(month, total_rainfall, average_rainfall))\n",
    "\n",
    "summary = [[] for i in range(12)]\n",
    "for num_year in range (1, number_of_years + 1):\n",
    "    for month in range(1, 13):\n",
    "        inches_of_rainfall = input(\"Inches of rainfall of year {} at {} month: \".format(num_year, month))\n",
    "        inches_of_rainfall = int(inches_of_rainfall)\n",
    "        summary[month - 1].append(inches_of_rainfall)\n",
    "\n",
    "print(\"Month \\t Total \\t Average\")\n",
    "for index, rainfall_info in enumerate(summary):\n",
    "    total_rainfall = sum(rainfall_info)\n",
    "    average_rainfall = total_rainfall / number_of_years\n",
    "    print(\"{} \\t {} \\t {}\".format(index + 1, total_rainfall, average_rainfall))\n",
    "    \n",
    "        "
   ]
  },
  {
   "cell_type": "markdown",
   "metadata": {},
   "source": [
    "### 9"
   ]
  },
  {
   "cell_type": "code",
   "execution_count": 17,
   "metadata": {},
   "outputs": [
    {
     "name": "stdout",
     "output_type": "stream",
     "text": [
      "Year \t Fee\n",
      "1 \t 8240.0$\n",
      "2 \t 8487.2$\n",
      "3 \t 8741.82$\n",
      "4 \t 9004.07$\n",
      "5 \t 9274.19$\n"
     ]
    }
   ],
   "source": [
    "tuition = 8000\n",
    "\n",
    "print(\"Year \\t Fee\")\n",
    "for year in range (1, 6):\n",
    "    tuition += tuition * 0.03\n",
    "    print(\"{} \\t {}$\".format(year, round(tuition, 2)))\n",
    "    "
   ]
  },
  {
   "cell_type": "code",
   "execution_count": null,
   "metadata": {},
   "outputs": [],
   "source": []
  }
 ],
 "metadata": {
  "kernelspec": {
   "display_name": "Python 3",
   "language": "python",
   "name": "python3"
  },
  "language_info": {
   "codemirror_mode": {
    "name": "ipython",
    "version": 3
   },
   "file_extension": ".py",
   "mimetype": "text/x-python",
   "name": "python",
   "nbconvert_exporter": "python",
   "pygments_lexer": "ipython3",
   "version": "3.7.3"
  }
 },
 "nbformat": 4,
 "nbformat_minor": 2
}
