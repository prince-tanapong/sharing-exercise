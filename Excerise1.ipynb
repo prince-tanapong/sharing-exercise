{
 "cells": [
  {
   "cell_type": "markdown",
   "metadata": {},
   "source": [
    "Exercise 1."
   ]
  },
  {
   "cell_type": "code",
   "execution_count": 1,
   "metadata": {
    "scrolled": true
   },
   "outputs": [
    {
     "name": "stdout",
     "output_type": "stream",
     "text": [
      "Plese enter a valid number: 5\n",
      "1\n"
     ]
    }
   ],
   "source": [
    "number = input(\"Plese enter a valid number: \")\n",
    "remainder = int(number) % 2\n",
    "print(remainder)"
   ]
  },
  {
   "cell_type": "markdown",
   "metadata": {},
   "source": []
  },
  {
   "cell_type": "markdown",
   "metadata": {},
   "source": [
    "Excercise 6."
   ]
  },
  {
   "cell_type": "code",
   "execution_count": 3,
   "metadata": {
    "scrolled": false
   },
   "outputs": [
    {
     "name": "stdout",
     "output_type": "stream",
     "text": [
      "Please enter radius of circle: 5\n",
      "circumference: 31.42\n"
     ]
    }
   ],
   "source": [
    "import math\n",
    "radius = input(\"Please enter radius of circle: \")\n",
    "circumference = round(2 * math.pi * float(radius), 2)\n",
    "print(\"circumference: {}\".format(circumference))"
   ]
  },
  {
   "cell_type": "markdown",
   "metadata": {},
   "source": []
  },
  {
   "cell_type": "markdown",
   "metadata": {},
   "source": [
    "Exercise 10."
   ]
  },
  {
   "cell_type": "code",
   "execution_count": 5,
   "metadata": {},
   "outputs": [
    {
     "name": "stdout",
     "output_type": "stream",
     "text": [
      "Please enter, The amount of principal originally deposited into the account: 1000\n",
      "Please enter, The annual interest rate paid by the account: 10\n",
      "Please enter, The number of times per year that the interest is compounded: 5\n",
      "Please enter, The number of years the account will be left to earn interest: 2\n",
      "\n",
      "The amount of money that will be in the account after 2 years equal 1218.99\n"
     ]
    }
   ],
   "source": [
    "from decimal import Decimal as D\n",
    "\n",
    "principal_decosited = input(\"Please enter, The amount of principal originally deposited into the account: \")\n",
    "annual_interest_rate = input(\"Please enter, The annual interest rate paid by the account: \")\n",
    "number_interest_per_year = input(\"Please enter, The number of times per year that the interest is compounded: \")\n",
    "number_of_year = input(\"Please enter, The number of years the account will be left to earn interest: \")\n",
    "\n",
    "# cleanup data\n",
    "principal_decosited = D(principal_decosited)\n",
    "annual_interest_rate = D(annual_interest_rate) / 100\n",
    "number_interest_per_year = int(number_interest_per_year)\n",
    "number_of_year = int(number_of_year)\n",
    "\n",
    "# compute\n",
    "amount_of_money = principal_decosited * ((1 + (annual_interest_rate / number_interest_per_year)) ** (number_interest_per_year * number_of_year))\n",
    "amount_of_money = round(amount_of_money, 2)\n",
    "print()\n",
    "print(\"The amount of money that will be in the account after {} years equal {}\".format(number_of_year, amount_of_money))"
   ]
  }
 ],
 "metadata": {
  "kernelspec": {
   "display_name": "Python 3",
   "language": "python",
   "name": "python3"
  },
  "language_info": {
   "codemirror_mode": {
    "name": "ipython",
    "version": 3
   },
   "file_extension": ".py",
   "mimetype": "text/x-python",
   "name": "python",
   "nbconvert_exporter": "python",
   "pygments_lexer": "ipython3",
   "version": "3.7.3"
  }
 },
 "nbformat": 4,
 "nbformat_minor": 2
}
