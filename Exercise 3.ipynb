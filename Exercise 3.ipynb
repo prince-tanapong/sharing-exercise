{
 "cells": [
  {
   "cell_type": "markdown",
   "metadata": {},
   "source": [
    "# 11"
   ]
  },
  {
   "cell_type": "code",
   "execution_count": 26,
   "metadata": {},
   "outputs": [
    {
     "name": "stdout",
     "output_type": "stream",
     "text": [
      "Today numbers are 1, 3, 9, 48, 8. The Powerball number is 8\n",
      "You win!!!!\n"
     ]
    }
   ],
   "source": [
    "import random\n",
    "def powerball():\n",
    "    numbers = [str(random.randint(1,59)) for i in range(5)]\n",
    "    powerball_number = str(random.randint(1,35))\n",
    "    print(\"Today numbers are {}. The Powerball number is {}\".format(\", \".join(numbers), powerball_number))\n",
    "    if powerball_number in numbers:\n",
    "        print(\"You win!!!!\")\n",
    "powerball()\n",
    "    "
   ]
  },
  {
   "cell_type": "code",
   "execution_count": null,
   "metadata": {},
   "outputs": [],
   "source": []
  },
  {
   "cell_type": "code",
   "execution_count": null,
   "metadata": {},
   "outputs": [],
   "source": []
  }
 ],
 "metadata": {
  "kernelspec": {
   "display_name": "Python 3",
   "language": "python",
   "name": "python3"
  },
  "language_info": {
   "codemirror_mode": {
    "name": "ipython",
    "version": 3
   },
   "file_extension": ".py",
   "mimetype": "text/x-python",
   "name": "python",
   "nbconvert_exporter": "python",
   "pygments_lexer": "ipython3",
   "version": "3.7.3"
  }
 },
 "nbformat": 4,
 "nbformat_minor": 2
}
