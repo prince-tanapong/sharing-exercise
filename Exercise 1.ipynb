{
 "cells": [
  {
   "cell_type": "markdown",
   "metadata": {},
   "source": [
    "1."
   ]
  },
  {
   "cell_type": "code",
   "execution_count": 1,
   "metadata": {
    "scrolled": true
   },
   "outputs": [
    {
     "name": "stdout",
     "output_type": "stream",
     "text": [
      "Plese enter a valid number: 10\n",
      "0\n"
     ]
    }
   ],
   "source": [
    "number = input(\"Plese enter a valid number: \")\n",
    "remainder = int(number) % 2\n",
    "print(remainder)"
   ]
  },
  {
   "cell_type": "markdown",
   "metadata": {},
   "source": [
    "2."
   ]
  },
  {
   "cell_type": "code",
   "execution_count": 2,
   "metadata": {},
   "outputs": [
    {
     "name": "stdout",
     "output_type": "stream",
     "text": [
      "Please enter the projected amount of total sales: 1000\n",
      "Profit: 230.00\n"
     ]
    }
   ],
   "source": [
    "from decimal import Decimal as D\n",
    "total_sale = input(\"Please enter the projected amount of total sales: \")\n",
    "profit = D(total_sale) * D(\"0.23\")\n",
    "print(\"Profit: {}\".format(profit))"
   ]
  },
  {
   "cell_type": "markdown",
   "metadata": {},
   "source": [
    "3."
   ]
  },
  {
   "cell_type": "code",
   "execution_count": 3,
   "metadata": {},
   "outputs": [
    {
     "name": "stdout",
     "output_type": "stream",
     "text": [
      "Please enter your mass in pounds: 10\n",
      "Your weight in kg: 4.54\n"
     ]
    }
   ],
   "source": [
    "pound = input(\"Please enter your mass in pounds: \")\n",
    "kg = float(pound) * 0.454\n",
    "print(\"Your weight in kg: {}\".format(kg))"
   ]
  },
  {
   "cell_type": "markdown",
   "metadata": {},
   "source": [
    "4."
   ]
  },
  {
   "cell_type": "code",
   "execution_count": 7,
   "metadata": {},
   "outputs": [
    {
     "name": "stdout",
     "output_type": "stream",
     "text": [
      "Please enter price per each item: 100\n",
      "Subtotal: 500.0, tax: 35.0, total: 535.0\n"
     ]
    }
   ],
   "source": [
    "price = input(\"Please enter price per each item: \")\n",
    "subtotal = float(price) * 5\n",
    "tax = subtotal * 0.07\n",
    "total = subtotal + tax\n",
    "print(\"Subtotal: {}, tax: {}, total: {}\".format(round(subtotal, 2), round(tax, 2), round(total, 2)))"
   ]
  },
  {
   "cell_type": "markdown",
   "metadata": {},
   "source": [
    "5."
   ]
  },
  {
   "cell_type": "code",
   "execution_count": 9,
   "metadata": {},
   "outputs": [
    {
     "name": "stdout",
     "output_type": "stream",
     "text": [
      "Please input total amount of a meal purchased at a restaurant: 100\n",
      "Tip: 18.0, tax: 7.0, total: 125.0\n"
     ]
    }
   ],
   "source": [
    "total_amount = input(\"Please input total amount of a meal purchased at a restaurant: \")\n",
    "total_amount = float(total_amount)\n",
    "tip = total_amount * 0.18\n",
    "tax = total_amount * 0.07\n",
    "total = total_amount + tip + tax\n",
    "print(\"Tip: {}, tax: {}, total: {}\".format(round(tip, 2), round(tax, 2), round(total, 2)))"
   ]
  },
  {
   "cell_type": "markdown",
   "metadata": {},
   "source": [
    "6."
   ]
  },
  {
   "cell_type": "code",
   "execution_count": 10,
   "metadata": {
    "scrolled": false
   },
   "outputs": [
    {
     "name": "stdout",
     "output_type": "stream",
     "text": [
      "Please enter radius of circle: 20\n",
      "circumference: 125.66\n"
     ]
    }
   ],
   "source": [
    "import math\n",
    "radius = input(\"Please enter radius of circle: \")\n",
    "circumference = round(2 * math.pi * float(radius), 2)\n",
    "print(\"circumference: {}\".format(circumference))"
   ]
  },
  {
   "cell_type": "markdown",
   "metadata": {},
   "source": [
    "7."
   ]
  },
  {
   "cell_type": "code",
   "execution_count": 11,
   "metadata": {},
   "outputs": [
    {
     "name": "stdout",
     "output_type": "stream",
     "text": [
      "Please input the number of cookies you want to make: 55\n",
      "1.72 cups of sugar, 1.15 cup of Butter and 3.15 cup of flour\n"
     ]
    }
   ],
   "source": [
    "number_of_cookies = input(\"Please input the number of cookies you want to make: \")\n",
    "per_cup = int(number_of_cookies) / 48\n",
    "cup_of_sugar = round(per_cup * 1.5, 2)\n",
    "cup_of_butter = round(per_cup * 1, 2)\n",
    "cup_of_flour = round(per_cup * 2.75, 2)\n",
    "print(\"{} cups of sugar, {} cup of Butter and {} cup of flour\".format(cup_of_sugar, cup_of_butter, cup_of_flour))"
   ]
  },
  {
   "cell_type": "markdown",
   "metadata": {},
   "source": [
    "8."
   ]
  },
  {
   "cell_type": "code",
   "execution_count": 12,
   "metadata": {},
   "outputs": [
    {
     "name": "stdout",
     "output_type": "stream",
     "text": [
      "Number of male: 99\n",
      "Number of female: 199\n",
      "Male 33.22%, Femail 66.78%\n"
     ]
    }
   ],
   "source": [
    "male = input(\"Number of male: \")\n",
    "female = input(\"Number of female: \")\n",
    "\n",
    "male = int(male)\n",
    "female = int(female)\n",
    "\n",
    "total = male + female\n",
    "male_percentage = round(male / total * 100, 2)\n",
    "female_percentage = round(female / total * 100, 2)\n",
    "\n",
    "print(\"Male {}%, Femail {}%\".format(male_percentage, female_percentage))\n"
   ]
  },
  {
   "cell_type": "markdown",
   "metadata": {},
   "source": [
    "9."
   ]
  },
  {
   "cell_type": "code",
   "execution_count": 13,
   "metadata": {},
   "outputs": [
    {
     "name": "stdout",
     "output_type": "stream",
     "text": [
      "Purchase for stock: 80000.00$\n",
      "Purchase commission: 2400.00$\n",
      "Purchase total: 82400.00$\n",
      "\n",
      "Sold for stock: 85500.00$\n",
      "Sold comission: 2565.00$\n",
      "Sold total: 82935.00$\n",
      "\n",
      "Money Left: 535.00$\n"
     ]
    }
   ],
   "source": [
    "# gathering information\n",
    "number_of_perchase_stock = number_of_sold_stock = 2000\n",
    "perchase_price_per_share = 40\n",
    "perchase_commission = sold_commission = 0.03\n",
    "sold_price_per_share = 42.75\n",
    "\n",
    "paid_amount_for_stock = number_of_perchase_stock * perchase_price_per_share\n",
    "purchase_commission_amount = paid_amount_for_stock * perchase_commission\n",
    "total_purchase_price = paid_amount_for_stock + purchase_commission_amount\n",
    "\n",
    "sold_amount_for_stock = number_of_sold_stock * sold_price_per_share\n",
    "sold_commission_amount = sold_amount_for_stock * sold_commission\n",
    "total_sold_price = sold_amount_for_stock - sold_commission_amount\n",
    "\n",
    "money_left = total_sold_price - total_purchase_price\n",
    "\n",
    "print(\"Purchase for stock: {0:.2f}$\".format(paid_amount_for_stock))\n",
    "print(\"Purchase commission: {0:.2f}$\".format(purchase_commission_amount))\n",
    "print(\"Purchase total: {0:.2f}$\".format(total_purchase_price))\n",
    "print()\n",
    "print(\"Sold for stock: {0:.2f}$\".format(sold_amount_for_stock))\n",
    "print(\"Sold comission: {0:.2f}$\".format(sold_commission_amount))\n",
    "print(\"Sold total: {0:.2f}$\".format(total_sold_price))\n",
    "print()\n",
    "print(\"Money Left: {0:.2f}$\".format(money_left))\n",
    "\n",
    "\n"
   ]
  },
  {
   "cell_type": "markdown",
   "metadata": {},
   "source": [
    "Exercise 10."
   ]
  },
  {
   "cell_type": "code",
   "execution_count": 14,
   "metadata": {},
   "outputs": [
    {
     "name": "stdout",
     "output_type": "stream",
     "text": [
      "Please enter, The amount of principal originally deposited into the account: 1000\n",
      "Please enter, The annual interest rate paid by the account: 3\n",
      "Please enter, The number of times per year that the interest is compounded: 2\n",
      "Please enter, The number of years the account will be left to earn interest: 4\n",
      "\n",
      "The amount of money that will be in the account after 4 years equal 1126.49\n"
     ]
    }
   ],
   "source": [
    "from decimal import Decimal as D\n",
    "\n",
    "principal_decosited = input(\"Please enter, The amount of principal originally deposited into the account: \")\n",
    "annual_interest_rate = input(\"Please enter, The annual interest rate paid by the account: \")\n",
    "number_interest_per_year = input(\"Please enter, The number of times per year that the interest is compounded: \")\n",
    "number_of_year = input(\"Please enter, The number of years the account will be left to earn interest: \")\n",
    "\n",
    "# cleanup data\n",
    "principal_decosited = D(principal_decosited)\n",
    "annual_interest_rate = D(annual_interest_rate) / 100\n",
    "number_interest_per_year = int(number_interest_per_year)\n",
    "number_of_year = int(number_of_year)\n",
    "\n",
    "# compute\n",
    "amount_of_money = principal_decosited * ((1 + (annual_interest_rate / number_interest_per_year)) ** (number_interest_per_year * number_of_year))\n",
    "amount_of_money = round(amount_of_money, 2)\n",
    "print()\n",
    "print(\"The amount of money that will be in the account after {} years equal {}\".format(number_of_year, amount_of_money))"
   ]
  },
  {
   "cell_type": "code",
   "execution_count": null,
   "metadata": {},
   "outputs": [],
   "source": []
  }
 ],
 "metadata": {
  "kernelspec": {
   "display_name": "Python 3",
   "language": "python",
   "name": "python3"
  },
  "language_info": {
   "codemirror_mode": {
    "name": "ipython",
    "version": 3
   },
   "file_extension": ".py",
   "mimetype": "text/x-python",
   "name": "python",
   "nbconvert_exporter": "python",
   "pygments_lexer": "ipython3",
   "version": "3.7.3"
  }
 },
 "nbformat": 4,
 "nbformat_minor": 2
}
