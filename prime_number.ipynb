{
 "nbformat": 4,
 "nbformat_minor": 2,
 "metadata": {
  "language_info": {
   "name": "python",
   "codemirror_mode": {
    "name": "ipython",
    "version": 3
   },
   "version": "3.7.3-final"
  },
  "orig_nbformat": 2,
  "file_extension": ".py",
  "mimetype": "text/x-python",
  "name": "python",
  "npconvert_exporter": "python",
  "pygments_lexer": "ipython3",
  "version": 3,
  "kernelspec": {
   "name": "python37364bite28226ca795142b49416b6de08c9809d",
   "display_name": "Python 3.7.3 64-bit"
  }
 },
 "cells": [
  {
   "cell_type": "code",
   "execution_count": 2,
   "metadata": {},
   "outputs": [
    {
     "name": "stdout",
     "output_type": "stream",
     "text": "The biggest prime numbber is  101\n"
    }
   ],
   "source": [
    "prime_numbber = 0\n",
    "while True:\n",
    "    number = int(input('Enter an integet X (negative to quite): '))\n",
    "    if number < 0:\n",
    "        break\n",
    "\n",
    "    for i in range(2, number):\n",
    "        if number % i == 0:\n",
    "            break\n",
    "    else:\n",
    "        if number > prime_numbber:\n",
    "            prime_numbber = number\n",
    "\n",
    "if prime_numbber == 0:\n",
    "    print('There is no prime numbber in the input.')\n",
    "else:\n",
    "    print('The biggest prime numbber is ', prime_numbber)\n",
    "\n"
   ]
  },
  {
   "cell_type": "code",
   "execution_count": null,
   "metadata": {},
   "outputs": [],
   "source": []
  }
 ]
}