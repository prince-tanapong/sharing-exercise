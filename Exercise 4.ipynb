{
 "cells": [
  {
   "cell_type": "markdown",
   "metadata": {},
   "source": [
    "# 9 Basic Method"
   ]
  },
  {
   "cell_type": "code",
   "execution_count": 4,
   "metadata": {},
   "outputs": [
    {
     "name": "stdout",
     "output_type": "stream",
     "text": [
      "Enter camel case string, Eg. StopAndSmellTheRoses: StopAndSmellTheRoses\n",
      "Stop and smell the roses\n"
     ]
    }
   ],
   "source": [
    "camel_case = input(\"Enter camel case string, Eg. StopAndSmellTheRoses: \")\n",
    "\n",
    "# Basic method\n",
    "result = \"\"\n",
    "for index, char in enumerate(camel_case):\n",
    "    if index == 0:\n",
    "        result += char.upper()\n",
    "    elif char.isupper():\n",
    "        result += \" \" + char.lower()\n",
    "    else:\n",
    "        result += char\n",
    "print(result)\n"
   ]
  },
  {
   "cell_type": "markdown",
   "metadata": {},
   "source": [
    "# 9 Use Regex"
   ]
  },
  {
   "cell_type": "code",
   "execution_count": 15,
   "metadata": {},
   "outputs": [
    {
     "name": "stdout",
     "output_type": "stream",
     "text": [
      "Enter camel case string, Eg. StopAndSmellTheRoses: StopAndSmellTheRoses\n",
      "Stop and smell the roses\n"
     ]
    }
   ],
   "source": [
    "import re\n",
    "camel_case = input(\"Enter camel case string, Eg. StopAndSmellTheRoses: \")\n",
    "splitted_words = re.findall(r'[A-Z][^A-Z]*', camel_case)\n",
    "result = \" \".join([word if index == 0 else word.lower() for index, word in enumerate(splitted_words)])\n",
    "print(result)\n"
   ]
  },
  {
   "cell_type": "code",
   "execution_count": null,
   "metadata": {},
   "outputs": [],
   "source": []
  }
 ],
 "metadata": {
  "kernelspec": {
   "display_name": "Python 3",
   "language": "python",
   "name": "python3"
  },
  "language_info": {
   "codemirror_mode": {
    "name": "ipython",
    "version": 3
   },
   "file_extension": ".py",
   "mimetype": "text/x-python",
   "name": "python",
   "nbconvert_exporter": "python",
   "pygments_lexer": "ipython3",
   "version": "3.7.3"
  }
 },
 "nbformat": 4,
 "nbformat_minor": 2
}
