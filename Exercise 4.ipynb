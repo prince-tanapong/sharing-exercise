{
 "cells": [
  {
   "cell_type": "markdown",
   "metadata": {},
   "source": [
    "# 9 Basic Method"
   ]
  },
  {
   "cell_type": "code",
   "execution_count": 4,
   "metadata": {},
   "outputs": [
    {
     "name": "stdout",
     "output_type": "stream",
     "text": [
      "Enter camel case string, Eg. StopAndSmellTheRoses: StopAndSmellTheRoses\n",
      "Stop and smell the roses\n"
     ]
    }
   ],
   "source": [
    "camel_case = input(\"Enter camel case string, Eg. StopAndSmellTheRoses: \")\n",
    "\n",
    "# Basic method\n",
    "result = \"\"\n",
    "for index, char in enumerate(camel_case):\n",
    "    if index == 0:\n",
    "        result += char.upper()\n",
    "    elif char.isupper():\n",
    "        result += \" \" + char.lower()\n",
    "    else:\n",
    "        result += char\n",
    "print(result)\n"
   ]
  },
  {
   "cell_type": "markdown",
   "metadata": {},
   "source": [
    "# 9 Use Regex"
   ]
  },
  {
   "cell_type": "code",
   "execution_count": 15,
   "metadata": {},
   "outputs": [
    {
     "name": "stdout",
     "output_type": "stream",
     "text": [
      "Enter camel case string, Eg. StopAndSmellTheRoses: StopAndSmellTheRoses\n",
      "Stop and smell the roses\n"
     ]
    }
   ],
   "source": [
    "import re\n",
    "camel_case = input(\"Enter camel case string, Eg. StopAndSmellTheRoses: \")\n",
    "splitted_words = re.findall(r'[A-Z][^A-Z]*', camel_case)\n",
    "result = \" \".join([word if index == 0 else word.lower() for index, word in enumerate(splitted_words)])\n",
    "print(result)\n"
   ]
  },
  {
   "cell_type": "markdown",
   "metadata": {},
   "source": [
    "# 10"
   ]
  },
  {
   "cell_type": "code",
   "execution_count": 22,
   "metadata": {},
   "outputs": [
    {
     "name": "stdout",
     "output_type": "stream",
     "text": [
      "Enter string: BEWARE THE IDES OF MARCH\n",
      "Ender shif number: 13\n",
      "ORJNER GUR VQRF BS ZNEPU\n"
     ]
    }
   ],
   "source": [
    "encrypt_string = input(\"Enter string: \")\n",
    "shif_number = int(input(\"Ender shif number: \"))\n",
    "\n",
    "# alphabets = ('a', 'b', 'c', 'd', 'e', 'f', 'g', 'h', 'i', 'j', 'k', 'l', 'm', 'n', 'o', 'p', 'q', 'r', 's', 't', 'u', 'v', 'w', 'x', 'y', 'z')\n",
    "alphabets = \"abcdefghijklmnopqrstuvwxyz\"\n",
    "\n",
    "result = \"\"\n",
    "for char in encrypt_string:\n",
    "    index = alphabets.find(char.lower())\n",
    "\n",
    "    num_alphabets = len(alphabets)\n",
    "    mapping_index = index + shif_number\n",
    "    if mapping_index > num_alphabets:\n",
    "        mapping_index -= num_alphabets \n",
    "    \n",
    "    \n",
    "    if index == -1 :\n",
    "        result += char\n",
    "    elif index != -1 and char.isupper():\n",
    "        result += alphabets[mapping_index].upper()\n",
    "    elif index != -1 and char.lower():\n",
    "        result += alphabets[mapping_index]\n",
    "\n",
    "print(result)\n"
   ]
  },
  {
   "cell_type": "code",
   "execution_count": null,
   "metadata": {},
   "outputs": [],
   "source": []
  }
 ],
 "metadata": {
  "kernelspec": {
   "display_name": "Python 3",
   "language": "python",
   "name": "python3"
  },
  "language_info": {
   "codemirror_mode": {
    "name": "ipython",
    "version": 3
   },
   "file_extension": ".py",
   "mimetype": "text/x-python",
   "name": "python",
   "nbconvert_exporter": "python",
   "pygments_lexer": "ipython3",
   "version": "3.7.3"
  }
 },
 "nbformat": 4,
 "nbformat_minor": 2
}
