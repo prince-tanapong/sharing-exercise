{
 "cells": [
  {
   "cell_type": "markdown",
   "metadata": {},
   "source": [
    "# 1"
   ]
  },
  {
   "cell_type": "code",
   "execution_count": 5,
   "metadata": {},
   "outputs": [
    {
     "name": "stdout",
     "output_type": "stream",
     "text": [
      "Your first name: John\n",
      "Your last nameSmith\n",
      "J.S., John SMITH, jsmith\n"
     ]
    }
   ],
   "source": [
    "first_name = input(\"Your first name: \")\n",
    "last_name = input(\"Your last name\")\n",
    "\n",
    "initial_name = \"%s.%s.\" % (first_name[0].upper(), last_name[0].upper())\n",
    "name = \"%s %s\" % (first_name, last_name.upper())\n",
    "user_name = \"%s%s\" % (first_name[0].lower(), last_name.lower())\n",
    "\n",
    "print(\"%s, %s, %s\" % (initial_name, name, user_name))"
   ]
  },
  {
   "cell_type": "markdown",
   "metadata": {},
   "source": [
    "# 2"
   ]
  },
  {
   "cell_type": "code",
   "execution_count": 10,
   "metadata": {},
   "outputs": [
    {
     "name": "stdout",
     "output_type": "stream",
     "text": [
      "Numbers: 2514\n",
      "12\n"
     ]
    }
   ],
   "source": [
    "numbers = input(\"Numbers: \")\n",
    "total = sum([int(number) for number in list(numbers)])\n",
    "print(total)"
   ]
  },
  {
   "cell_type": "markdown",
   "metadata": {},
   "source": [
    "# 3"
   ]
  },
  {
   "cell_type": "code",
   "execution_count": 12,
   "metadata": {},
   "outputs": [
    {
     "name": "stdout",
     "output_type": "stream",
     "text": [
      "Please enter date as format mm/dd/ yyyy: 03/12/2018\n",
      "March 12, 2018\n"
     ]
    }
   ],
   "source": [
    "input_date = input(\"Please enter date as format mm/dd/ yyyy: \")\n",
    "splitted = input_date.split('/')\n",
    "\n",
    "month = {\n",
    "    '01': 'January',\n",
    "    '02': 'February',\n",
    "    '03': 'March',\n",
    "    '04': 'April',\n",
    "    '05': 'May',\n",
    "    '06': 'June',\n",
    "    '07': 'July',\n",
    "    '08': 'Auguest',\n",
    "    '09': 'September',\n",
    "    '10': 'October',\n",
    "    '11': 'November',\n",
    "    '12': 'December'\n",
    "}\n",
    "\n",
    "output_date = \"%s %s, %s\" % (month.get(splitted[0]), splitted[1], splitted[2])\n",
    "print(output_date)\n"
   ]
  },
  {
   "cell_type": "markdown",
   "metadata": {},
   "source": [
    "# 4"
   ]
  },
  {
   "cell_type": "code",
   "execution_count": 18,
   "metadata": {},
   "outputs": [
    {
     "name": "stdout",
     "output_type": "stream",
     "text": [
      "Enter company phone number, eg 555-GET-FOOD: 555-GET-FOOD\n",
      "555-438-3663\n"
     ]
    }
   ],
   "source": [
    "input_number = input(\"Enter company phone number, eg 555-GET-FOOD: \")\n",
    "\n",
    "mapping = {\n",
    "    '2': 'ABC',\n",
    "    '3': 'DEF',\n",
    "    '4': 'GHI',\n",
    "    '5': 'JKL',\n",
    "    '6': 'MNO',\n",
    "    '7': 'PQRS',\n",
    "    '8': 'TUV',\n",
    "    '9': 'WXYZ'\n",
    "}\n",
    "\n",
    "output_number = ''\n",
    "for char in input_number:\n",
    "    for key, value in mapping.items():\n",
    "        if char in value:\n",
    "            output_number += key\n",
    "            break\n",
    "    else:\n",
    "        output_number += char\n",
    "print(output_number)"
   ]
  },
  {
   "cell_type": "markdown",
   "metadata": {},
   "source": [
    "# 5"
   ]
  },
  {
   "cell_type": "code",
   "execution_count": 27,
   "metadata": {},
   "outputs": [
    {
     "name": "stdout",
     "output_type": "stream",
     "text": [
      "Please enter sentenceABC   34 ee\n",
      "{'isspace': 4, 'isdigit': 2, 'isupper': 3, 'islower': 2}\n"
     ]
    }
   ],
   "source": [
    "sentence = input(\"Enter sentence: \")\n",
    "\n",
    "summary = {\n",
    "    'isspace': 0,\n",
    "    'isdigit': 0,\n",
    "    'isupper': 0,\n",
    "    'islower': 0,\n",
    "}\n",
    "\n",
    "for char in sentence:\n",
    "    for key in summary:\n",
    "        if getattr(char, key)() is True:\n",
    "            summary[key] += 1\n",
    "            break\n",
    "            \n",
    "print(summary)\n",
    "        "
   ]
  },
  {
   "cell_type": "markdown",
   "metadata": {},
   "source": [
    "# 6"
   ]
  },
  {
   "cell_type": "code",
   "execution_count": 35,
   "metadata": {},
   "outputs": [
    {
     "name": "stdout",
     "output_type": "stream",
     "text": [
      "Please enter sentence: hello. my name is Joe. what is your name?\n",
      "Hello. My name is joe. What is your name?\n"
     ]
    }
   ],
   "source": [
    "input_sentences = input(\"Enter sentences: \")\n",
    "\n",
    "sentences = input_sentences.split('.')\n",
    "\n",
    "result = '. '.join([sentence.strip().capitalize() for sentence in sentences])\n",
    "print(result)"
   ]
  },
  {
   "cell_type": "markdown",
   "metadata": {},
   "source": [
    "# 7"
   ]
  },
  {
   "cell_type": "code",
   "execution_count": 38,
   "metadata": {},
   "outputs": [
    {
     "name": "stdout",
     "output_type": "stream",
     "text": [
      "Enter String: ggeotg\n",
      "Total vowels 2, Total consonants 4\n"
     ]
    }
   ],
   "source": [
    "input_string = input(\"Enter String: \")\n",
    "\n",
    "vowels = 'aeiou'\n",
    "consonants = 'bcdfghjklmnpqrstvxz'\n",
    "\n",
    "total_vowels = 0\n",
    "total_consonants = 0\n",
    "for char in input_string:\n",
    "    if char in vowels:\n",
    "        total_vowels += 1\n",
    "    elif char in consonants:\n",
    "        total_consonants += 1\n",
    "\n",
    "print(\"Total vowels %s, Total consonants %s\" % (total_vowels, total_consonants))\n"
   ]
  },
  {
   "cell_type": "markdown",
   "metadata": {},
   "source": [
    "# 8"
   ]
  },
  {
   "cell_type": "code",
   "execution_count": 2,
   "metadata": {},
   "outputs": [
    {
     "name": "stdout",
     "output_type": "stream",
     "text": [
      "Input string: testxxddxyyydggdz\n",
      "d\n"
     ]
    }
   ],
   "source": [
    "words = input(\"Input string: \")\n",
    "\n",
    "# count number of each char\n",
    "words_count = dict()\n",
    "for char in list(words):\n",
    "    if char not in words_count:\n",
    "        words_count[char] = 0\n",
    "    words_count[char] += 1\n",
    "\n",
    "# find maximum one\n",
    "most_frequent_char = \"\"\n",
    "count = 0\n",
    "for key, value in words_count.items():\n",
    "    if value >= count:\n",
    "        count = value\n",
    "        most_frequent_char = key\n",
    "\n",
    "print(most_frequent_char)"
   ]
  },
  {
   "cell_type": "markdown",
   "metadata": {},
   "source": [
    "# 9 Basic Method"
   ]
  },
  {
   "cell_type": "code",
   "execution_count": 4,
   "metadata": {},
   "outputs": [
    {
     "name": "stdout",
     "output_type": "stream",
     "text": [
      "Enter camel case string, Eg. StopAndSmellTheRoses: StopAndSmellTheRoses\n",
      "Stop and smell the roses\n"
     ]
    }
   ],
   "source": [
    "camel_case = input(\"Enter camel case string, Eg. StopAndSmellTheRoses: \")\n",
    "\n",
    "# Basic method\n",
    "result = \"\"\n",
    "for index, char in enumerate(camel_case):\n",
    "    if index == 0:\n",
    "        result += char.upper()\n",
    "    elif char.isupper():\n",
    "        result += \" \" + char.lower()\n",
    "    else:\n",
    "        result += char\n",
    "print(result)\n"
   ]
  },
  {
   "cell_type": "markdown",
   "metadata": {},
   "source": [
    "# 9 Use Regex"
   ]
  },
  {
   "cell_type": "code",
   "execution_count": 15,
   "metadata": {},
   "outputs": [
    {
     "name": "stdout",
     "output_type": "stream",
     "text": [
      "Enter camel case string, Eg. StopAndSmellTheRoses: StopAndSmellTheRoses\n",
      "Stop and smell the roses\n"
     ]
    }
   ],
   "source": [
    "import re\n",
    "camel_case = input(\"Enter camel case string, Eg. StopAndSmellTheRoses: \")\n",
    "splitted_words = re.findall(r'[A-Z][^A-Z]*', camel_case)\n",
    "result = \" \".join([word if index == 0 else word.lower() for index, word in enumerate(splitted_words)])\n",
    "print(result)\n"
   ]
  },
  {
   "cell_type": "markdown",
   "metadata": {},
   "source": [
    "# 10"
   ]
  },
  {
   "cell_type": "code",
   "execution_count": 22,
   "metadata": {},
   "outputs": [
    {
     "name": "stdout",
     "output_type": "stream",
     "text": [
      "Enter string: BEWARE THE IDES OF MARCH\n",
      "Ender shif number: 13\n",
      "ORJNER GUR VQRF BS ZNEPU\n"
     ]
    }
   ],
   "source": [
    "encrypt_string = input(\"Enter string: \")\n",
    "shif_number = int(input(\"Ender shif number: \"))\n",
    "\n",
    "# alphabets = ('a', 'b', 'c', 'd', 'e', 'f', 'g', 'h', 'i', 'j', 'k', 'l', 'm', 'n', 'o', 'p', 'q', 'r', 's', 't', 'u', 'v', 'w', 'x', 'y', 'z')\n",
    "alphabets = \"abcdefghijklmnopqrstuvwxyz\"\n",
    "\n",
    "result = \"\"\n",
    "for char in encrypt_string:\n",
    "    index = alphabets.find(char.lower())\n",
    "\n",
    "    num_alphabets = len(alphabets)\n",
    "    mapping_index = index + shif_number\n",
    "    if mapping_index > num_alphabets:\n",
    "        mapping_index -= num_alphabets \n",
    "    \n",
    "    \n",
    "    if index == -1 :\n",
    "        result += char\n",
    "    elif index != -1 and char.isupper():\n",
    "        result += alphabets[mapping_index].upper()\n",
    "    elif index != -1 and char.lower():\n",
    "        result += alphabets[mapping_index]\n",
    "\n",
    "print(result)\n"
   ]
  },
  {
   "cell_type": "code",
   "execution_count": null,
   "metadata": {},
   "outputs": [],
   "source": []
  }
 ],
 "metadata": {
  "kernelspec": {
   "display_name": "Python 3",
   "language": "python",
   "name": "python3"
  },
  "language_info": {
   "codemirror_mode": {
    "name": "ipython",
    "version": 3
   },
   "file_extension": ".py",
   "mimetype": "text/x-python",
   "name": "python",
   "nbconvert_exporter": "python",
   "pygments_lexer": "ipython3",
   "version": "3.7.4"
  }
 },
 "nbformat": 4,
 "nbformat_minor": 2
}
