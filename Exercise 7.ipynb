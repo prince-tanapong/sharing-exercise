{
 "nbformat": 4,
 "nbformat_minor": 2,
 "metadata": {
  "language_info": {
   "name": "python",
   "codemirror_mode": {
    "name": "ipython",
    "version": 3
   }
  },
  "orig_nbformat": 2,
  "file_extension": ".py",
  "mimetype": "text/x-python",
  "name": "python",
  "npconvert_exporter": "python",
  "pygments_lexer": "ipython3",
  "version": 3
 },
 "cells": [
  {
   "cell_type": "markdown",
   "execution_count": null,
   "metadata": {},
   "outputs": [],
   "source": [
    "Kennedy"
   ]
  },
  {
   "cell_type": "code",
   "execution_count": 36,
   "metadata": {},
   "outputs": [
    {
     "name": "stdout",
     "output_type": "stream",
     "text": "{'We': [1],\n 'a': [1, 2, 4],\n 'an': [3],\n 'as': [4, 4, 5, 6],\n 'beginning': [4],\n 'but': [2],\n 'celebration': [2],\n 'change': [6],\n 'end': [3],\n 'freedom': [3],\n 'not': [1],\n 'observe': [1],\n 'of': [2, 3],\n 'party': [2],\n 'renewal': [5],\n 'signifying': [5],\n 'symbolizing': [3],\n 'today': [1],\n 'victory': [1],\n 'well': [4, 5]}\n"
    }
   ],
   "source": [
    "from pprint import pprint\n",
    "\n",
    "result = {}\n",
    "\n",
    "with open('./files/exercise 7/Kennedy.txt', 'r') as open_file:\n",
    "    for index, line in enumerate(open_file):\n",
    "        for word in line.split():\n",
    "            if word not in result:\n",
    "                result[word] = []\n",
    "            # line start with 1\n",
    "            result[word].append(index + 1)\n",
    "\n",
    "pprint(result)\n"
   ]
  },
  {
   "cell_type": "markdown",
   "execution_count": null,
   "metadata": {},
   "outputs": [],
   "source": [
    "7"
   ]
  },
  {
   "cell_type": "code",
   "execution_count": 48,
   "metadata": {},
   "outputs": [
    {
     "name": "stdout",
     "output_type": "stream",
     "text": "No one is unaware of the name of that famous English shipowner, Cunard.\nIn 1840 this shrewd industrialist founded a postal service between Liverpool and Halifax, featuring three wooden ships with 400-horsepower paddle wheels and a burden of 1,162 metric tons.\nEight years later, the company's assets were increased by four 650-horsepower ships at 1,820 metric tons, and in two more years, by two other vessels of still greater power and tonnage.\nIn 1853 the Cunard Co., whose mail-carrying charter had just been renewed, successively added to its assets the Arabia, the Persia, the China, the Scotia, the Java, and the Russia, all ships of top speed and, after the Great Eastern, the biggest ever to plow the seas.\nSo in 1867 this company owned twelve ships, eight with paddle wheels and four with propellers.\nIf I give these highly condensed details, it is so everyone can fully understand the importance of this maritime transportation company, known the world over for its shrewd management.\nNo transoceanic navigational undertaking has been conducted with more ability, no business dealings have been crowned with greater success.\nIn twenty-six years Cunard ships have made 2,000 Atlantic crossings without so much as a voyage canceled, a delay recorded, a man, a craft, or even a letter lost.\nAccordingly, despite strong competition from France, passengers still choose the Cunard line in preference to all others, as can be seen in a recent survey of official documents.\nGiven this, no one will be astonished at the uproar provoked by this accident involving one of its finest steamers.\n\n"
    }
   ],
   "source": [
    "codes = {'A':')','a':'0','B':'(','b':'9','C':'*','c':'8','D':'&','d':'7','E':'^','e':'6','F':'%','f':'5','G':'$','g':'4','H':'#','h':'3','I':'@','i':'2','J':'!','j':'1','K':'Z','k':'z','L':'Y','l':'y','M':'X','m':'x','N':'W','n':'w','O':'V','o':'v','P':'U','p':'u','Q':'T','q':'t','R':'S','r':'s','S':'R','s':'r','T':'Q','t':'q','U':'P','u':'p','V':'O','v':'o','W':'N','w':'n','X':'M','x':'m','Y':'L','y':'l','Z':'K','z':'k','!':'J','1':'j','@':'I','2':'i','#':'H','3':'h','$':'G','4':'g','%':'F','5':'f','^':'E','6':'e','&':'D','7':'d','*':'C','8':'c','(':'B','9':'b',')':'A','0':'a',':':',',',':':','?':'.','.':'?','<':'>','>':'<',\"'\":'\"','\"':\"'\",'+':'- ‐','- ‐':'+','=':';',';':'=','{':'[','[':'{','}':']',']':'}'}\n",
    "\n",
    "# Encrypt to file\n",
    "encrypted_result = \"\"\n",
    "with open('./files/exercise 7/plain.txt', 'r') as open_file:\n",
    "    for line in open_file:\n",
    "        for char in line:\n",
    "            if codes.get(char):\n",
    "                encrypted_result += codes[char]\n",
    "            else:\n",
    "                encrypted_result += char\n",
    "with open('./files/exercise 7/encrypted.txt', 'w+') as open_file:\n",
    "    for line in encrypted_result:\n",
    "        open_file.writelines(line)\n",
    "\n",
    "    \n",
    "# Decrypt from file\n",
    "decrypted_result = \"\"\n",
    "with open('./files/exercise 7/encrypted.txt', 'r') as open_file:\n",
    "    for line in open_file:\n",
    "        for char in line:\n",
    "            for key, value in codes.items():\n",
    "                if char == value:\n",
    "                    decrypted_result += key\n",
    "                    break\n",
    "            else:\n",
    "                decrypted_result += char\n",
    "print(decrypted_result)\n",
    "\n"
   ]
  },
  {
   "cell_type": "code",
   "execution_count": null,
   "metadata": {},
   "outputs": [],
   "source": []
  }
 ]
}